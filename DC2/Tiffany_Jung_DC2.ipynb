{
 "cells": [
  {
   "cell_type": "markdown",
   "metadata": {
    "collapsed": true
   },
   "source": [
    " Import data, etc. "
   ]
  },
  {
   "cell_type": "code",
   "execution_count": 26,
   "metadata": {},
   "outputs": [],
   "source": [
    "import pandas as pd\n",
    "import numpy as np\n",
    "import datetime \n",
    "import matplotlib.pyplot as plt\n",
    "import scipy.stats as stats\n",
    "from sklearn.cross_validation import train_test_split\n",
    "from sklearn.linear_model import LogisticRegression\n",
    "from sklearn import metrics, cross_validation  \n",
    "from sklearn.metrics import confusion_matrix\n",
    "from sklearn.metrics import accuracy_score\n",
    "import seaborn as sns"
   ]
  },
  {
   "cell_type": "code",
   "execution_count": 2,
   "metadata": {},
   "outputs": [],
   "source": [
    "dfTest = pd.read_csv(\"test_results.csv\")\n",
    "dfUser = pd.read_csv(\"user_table.csv\")\n",
    "# Join tables \n",
    "df_raw = pd.merge(dfTest,\n",
    "                  dfUser, how='left',\n",
    "                  left_on=['user_id'], right_on=['user_id'])"
   ]
  },
  {
   "cell_type": "code",
   "execution_count": 19,
   "metadata": {},
   "outputs": [
    {
     "name": "stdout",
     "output_type": "stream",
     "text": [
      "['user_id', 'timestamp', 'source', 'device', 'operative_system', 'test', 'price', 'converted', 'city', 'country', 'lat', 'long']\n",
      "['user_id', 'timestamp', 'source', 'device', 'operative_system', 'test', 'price', 'converted', 'city', 'country', 'lat', 'long', 'ads-bing', 'ads-google', 'ads-yahoo', 'ads_facebook', 'ads_other', 'direct_traffic', 'friend_referral', 'seo-bing', 'seo-google', 'seo-other', 'seo-yahoo', 'seo_facebook', 'mobile', 'web', 'android', 'iOS', 'linux', 'mac', 'other', 'windows']\n"
     ]
    }
   ],
   "source": [
    "print list(df_raw)\n",
    "# Dummify variables \n",
    "srcDummy= pd.get_dummies(df_raw['source'])\n",
    "devDummy= pd.get_dummies(df_raw['device'])\n",
    "oprDummy= pd.get_dummies(df_raw['operative_system'])\n",
    "# citDummy= pd.get_dummies(df_raw['city'])\n",
    "\n",
    "df= pd.concat([df_raw, srcDummy, devDummy, oprDummy], axis=1)\n",
    "print list(df)"
   ]
  },
  {
   "cell_type": "code",
   "execution_count": 17,
   "metadata": {},
   "outputs": [
    {
     "name": "stdout",
     "output_type": "stream",
     "text": [
      "   user_id            timestamp          source  device operative_system  \\\n",
      "0   604839  2015-05-08 03:38:34    ads_facebook  mobile              iOS   \n",
      "1   624057  2015-05-10 21:08:46      seo-google  mobile          android   \n",
      "2   317970  2015-04-04 15:01:23        ads-bing  mobile          android   \n",
      "3   685636  2015-05-07 07:26:01  direct_traffic  mobile              iOS   \n",
      "4   820854  2015-05-24 11:04:40    ads_facebook     web              mac   \n",
      "5   169971  2015-04-13 12:07:08      ads-google  mobile              iOS   \n",
      "6   600150  2015-03-04 14:45:44    seo_facebook     web          windows   \n",
      "7   798371  2015-03-15 08:19:29        ads-bing  mobile          android   \n",
      "8   447194  2015-03-28 12:28:10    ads_facebook     web          windows   \n",
      "9   431639  2015-04-24 12:42:18    ads_facebook     web          windows   \n",
      "\n",
      "   test  price  converted          city country    lat   long  \n",
      "0     0     39          0       Buffalo     USA  42.89 -78.86  \n",
      "1     0     39          0     Lakeville     USA  44.68 -93.24  \n",
      "2     0     39          0         Parma     USA  41.38 -81.73  \n",
      "3     1     59          0  Fayetteville     USA  35.07 -78.90  \n",
      "4     0     39          0       Fishers     USA  39.95 -86.02  \n",
      "5     0     39          0      New York     USA  40.67 -73.94  \n",
      "6     0     39          0           NaN     NaN    NaN    NaN  \n",
      "7     1     59          1   East Orange     USA  40.77 -74.21  \n",
      "8     1     59          0        Dayton     USA  39.78 -84.20  \n",
      "9     1     59          0      Richmond     USA  37.53 -77.47  \n",
      "   user_id            timestamp          source  device operative_system  \\\n",
      "0   604839  2015-05-08 03:38:34    ads_facebook  mobile              iOS   \n",
      "1   624057  2015-05-10 21:08:46      seo-google  mobile          android   \n",
      "2   317970  2015-04-04 15:01:23        ads-bing  mobile          android   \n",
      "3   685636  2015-05-07 07:26:01  direct_traffic  mobile              iOS   \n",
      "4   820854  2015-05-24 11:04:40    ads_facebook     web              mac   \n",
      "5   169971  2015-04-13 12:07:08      ads-google  mobile              iOS   \n",
      "6   600150  2015-03-04 14:45:44    seo_facebook     web          windows   \n",
      "7   798371  2015-03-15 08:19:29        ads-bing  mobile          android   \n",
      "8   447194  2015-03-28 12:28:10    ads_facebook     web          windows   \n",
      "9   431639  2015-04-24 12:42:18    ads_facebook     web          windows   \n",
      "\n",
      "   test  price  converted          city country  ...   Woonsocket  Worcester  \\\n",
      "0     0     39          0       Buffalo     USA  ...            0          0   \n",
      "1     0     39          0     Lakeville     USA  ...            0          0   \n",
      "2     0     39          0         Parma     USA  ...            0          0   \n",
      "3     1     59          0  Fayetteville     USA  ...            0          0   \n",
      "4     0     39          0       Fishers     USA  ...            0          0   \n",
      "5     0     39          0      New York     USA  ...            0          0   \n",
      "6     0     39          0           NaN     NaN  ...            0          0   \n",
      "7     1     59          1   East Orange     USA  ...            0          0   \n",
      "8     1     59          0        Dayton     USA  ...            0          0   \n",
      "9     1     59          0      Richmond     USA  ...            0          0   \n",
      "\n",
      "   Wyoming  Yakima  Yonkers  Yorba Linda  Youngstown  Yuba City  Yucaipa  Yuma  \n",
      "0        0       0        0            0           0          0        0     0  \n",
      "1        0       0        0            0           0          0        0     0  \n",
      "2        0       0        0            0           0          0        0     0  \n",
      "3        0       0        0            0           0          0        0     0  \n",
      "4        0       0        0            0           0          0        0     0  \n",
      "5        0       0        0            0           0          0        0     0  \n",
      "6        0       0        0            0           0          0        0     0  \n",
      "7        0       0        0            0           0          0        0     0  \n",
      "8        0       0        0            0           0          0        0     0  \n",
      "9        0       0        0            0           0          0        0     0  \n",
      "\n",
      "[10 rows x 955 columns]\n"
     ]
    }
   ],
   "source": [
    "print df_raw.head(10)\n",
    "print df.head(10)"
   ]
  },
  {
   "cell_type": "code",
   "execution_count": 4,
   "metadata": {},
   "outputs": [],
   "source": [
    "# AA Testing to see if the test was well designed \n",
    "# draw random sample from non-test, find conversion rate \n",
    "# df_0=df.loc[df['test']==0]\n",
    "# print df_0\n",
    "\n",
    "# for i in range(0, 9):\n",
    "# print df.groupby(['converted'])['test'].size()"
   ]
  },
  {
   "cell_type": "code",
   "execution_count": 6,
   "metadata": {},
   "outputs": [
    {
     "name": "stdout",
     "output_type": "stream",
     "text": [
      "test            0       1\n",
      "converted                \n",
      "0          198692  112300\n",
      "1            4035    1773\n",
      "test              0         1\n",
      "converted                    \n",
      "0          0.980096  0.984457\n",
      "1          0.019904  0.015543\n",
      "0.000955492677494\n",
      "0.00393214000002\n",
      "0.024659518174\n"
     ]
    }
   ],
   "source": [
    "# AB Testing \n",
    "\n",
    "# Find sum(converted)/sum(test) vs. test (0, 1)\n",
    "summary=pd.crosstab(df_raw['converted'],df_raw['test'])\n",
    "summarynorm=pd.crosstab(df_raw['converted'],df_raw['test'], normalize='columns')\n",
    "print summary\n",
    "print summarynorm\n",
    "\n",
    "# Looks like less people are buying product with the test.\n",
    "# Check if this difference is statistically significant using chi-squared  \n",
    "chiStat = (((summarynorm.iloc[1][1]-summarynorm.iloc[1][0])**2)/summarynorm.iloc[1][0]).sum()\n",
    "print chiStat\n",
    "\n",
    "crit=stats.chi2.ppf(q=0.05,df=1)\n",
    "print crit\n",
    "\n",
    "pValue=stats.chi2.cdf(x=chiStat,df=1)\n",
    "print pValue\n",
    "\n",
    "# pValue < 0.05, difference in sales is statistically significant \n",
    "join=df.groupby(['converted']).size().reset_index(name='joinCount')\n"
   ]
  },
  {
   "cell_type": "code",
   "execution_count": 7,
   "metadata": {},
   "outputs": [
    {
     "data": {
      "text/plain": [
       "1.1813574695197979"
      ]
     },
     "execution_count": 7,
     "metadata": {},
     "output_type": "execute_result"
    }
   ],
   "source": [
    "# Find out if there's a revenue \n",
    "\n",
    "# ratio of revenue w/ price increase/ default\n",
    "ratio = summarynorm.iloc[1][1]*59/(summarynorm.iloc[1][0]*39)\n",
    "ratio\n",
    "\n",
    "## Finding 1: 18% increase in revenue, go ahead with $59.  "
   ]
  },
  {
   "cell_type": "markdown",
   "metadata": {},
   "source": [
    "Regression to find actionable items.\n",
    "Features: city, source, device, OS, time? "
   ]
  },
  {
   "cell_type": "code",
   "execution_count": 29,
   "metadata": {},
   "outputs": [
    {
     "name": "stdout",
     "output_type": "stream",
     "text": [
      "                  0         0\n",
      "0             price -0.011637\n",
      "1               lat -0.003951\n",
      "2              long -0.000567\n",
      "3          ads-bing -0.332954\n",
      "4        ads-google  0.232202\n",
      "5         ads-yahoo -0.160764\n",
      "6      ads_facebook  0.168267\n",
      "7         ads_other -0.197230\n",
      "8    direct_traffic -0.380911\n",
      "9   friend_referral  0.873747\n",
      "10         seo-bing -0.041492\n",
      "11       seo-google -0.041292\n",
      "12        seo-other -0.071457\n",
      "13        seo-yahoo  0.323054\n",
      "14     seo_facebook -0.111780\n",
      "15           mobile  0.367070\n",
      "16              web -0.107680\n",
      "17          android -0.223824\n",
      "18              iOS  0.152656\n",
      "19            linux -0.333630\n",
      "20              mac  0.818389\n",
      "21            other -0.421010\n",
      "22          windows  0.266810\n",
      "[[ -1.16370758e-02  -3.95137668e-03  -5.66558162e-04  -3.32954354e-01\n",
      "    2.32202167e-01  -1.60764350e-01   1.68266773e-01  -1.97229735e-01\n",
      "   -3.80911381e-01   8.73747318e-01  -4.14916012e-02  -4.12922315e-02\n",
      "   -7.14570682e-02   3.23054385e-01  -1.11779687e-01   3.67070229e-01\n",
      "   -1.07679991e-01  -2.23824295e-01   1.52655830e-01  -3.33630314e-01\n",
      "    8.18389021e-01  -4.21010117e-01   2.66810113e-01]]\n",
      "[[  59.      0.      0.   ...,    0.      0.      1.  ]\n",
      " [  39.     39.12  -94.73 ...,    0.      0.      1.  ]\n",
      " [  39.     40.57 -111.85 ...,    0.      0.      0.  ]\n",
      " ..., \n",
      " [  59.     33.83 -118.34 ...,    0.      0.      0.  ]\n",
      " [  39.     33.95  -83.39 ...,    0.      0.      0.  ]\n",
      " [  39.     37.53  -77.47 ...,    0.      0.      0.  ]]\n",
      "[[1]\n",
      " [0]\n",
      " [1]\n",
      " ..., \n",
      " [1]\n",
      " [1]\n",
      " [0]]\n",
      "Accuracy ::  0.58135998262\n",
      "Report ::               precision    recall  f1-score   support\n",
      "\n",
      "          0       0.58      0.58      0.58      4566\n",
      "          1       0.58      0.59      0.59      4640\n",
      "\n",
      "avg / total       0.58      0.58      0.58      9206\n",
      "\n"
     ]
    },
    {
     "data": {
      "image/png": "[encoded data removed]",
      "text/plain": [
       "<matplotlib.figure.Figure at 0x112e4c390>"
      ]
     },
     "metadata": {},
     "output_type": "display_data"
    }
   ],
   "source": [
    "def train_logistic_regression(train_x, train_y):\n",
    "    logistic_regression_model = LogisticRegression()\n",
    "    logistic_regression_model.fit(train_x, train_y)\n",
    "#     print(logistic_regression_model.coef_)\n",
    "    return logistic_regression_model\n",
    "\n",
    "def model_accuracy(trained_model, features, targets):\n",
    "    accuracy_score = trained_model.score(features, targets)\n",
    "    return accuracy_score\n",
    "\n",
    "df=df.fillna(0)\n",
    "features=['price', 'lat', 'long', 'ads-bing', 'ads-google', \n",
    "           'ads-yahoo', 'ads_facebook', 'ads_other', 'direct_traffic', \n",
    "          'friend_referral', 'seo-bing', 'seo-google', 'seo-other', 'seo-yahoo', 'seo_facebook', \n",
    "          'mobile', 'web', 'android', 'iOS', 'linux', 'mac', 'other', 'windows']\n",
    "\n",
    "\n",
    "nsample=5700\n",
    "df_majority = df[df.converted==0]\n",
    "df_minority = df[df.converted==1]\n",
    "df_sample = df_majority.sample(n=nsample)\n",
    "\n",
    "df_resample = pd.concat([df_sample, df_minority])\n",
    "\n",
    "\n",
    "train_x, test_x, train_y, test_y = train_test_split(df_resample[features], df_resample[['converted']], train_size=0.8)\n",
    "\n",
    "\n",
    "# Training Logistic regression model\n",
    "trained_logistic_regression_model = train_logistic_regression(train_x, train_y)\n",
    "train_accuracy = model_accuracy(trained_logistic_regression_model, train_x, train_y)\n",
    "\n",
    "# Feature importance \n",
    "coefficients = pd.concat([pd.DataFrame(features),pd.DataFrame(np.transpose(trained_logistic_regression_model.coef_))], axis = 1)\n",
    "print coefficients\n",
    "# print trained_logistic_regression_model.coef_\n",
    "\n",
    "print train_x.values\n",
    "print train_y.values\n",
    "\n",
    "# Testing the logistic regression model\n",
    "test_accuracy = model_accuracy(trained_logistic_regression_model, test_x, test_y)    \n",
    "predicted = cross_validation.cross_val_predict(LogisticRegression(), train_x, train_y['converted'], cv=2)\n",
    "###\n",
    "# Validation \n",
    "print \"Accuracy :: \", metrics.accuracy_score(train_y, predicted)\n",
    "print \"Report :: \", metrics.classification_report(train_y, predicted) \n",
    "\n",
    "test_x['prediction']=trained_logistic_regression_model.predict(test_x)\n",
    "conf_matrix=confusion_matrix(test_y, test_x['prediction'])\n",
    "sns.heatmap(conf_matrix, annot=True)\n",
    "sns.plt.show()\n",
    "\n",
    "## Findings\n",
    "# 1. Ads on bing and yahoo may not be good investment \n",
    "# 2. Friend referral yields high conversion. Friend related promo suggested.\n",
    "# 3. Mac users prefer the software. Target mac users in marketing \n",
    "# 4. Mobile users "
   ]
  },
  {
   "cell_type": "markdown",
   "metadata": {},
   "source": [
    "Find sample size nc that gives power > 0.8.\n",
    "Identify date @ nc"
   ]
  }
 ],
 "metadata": {
  "kernelspec": {
   "display_name": "Python 2",
   "language": "python",
   "name": "python2"
  },
  "language_info": {
   "codemirror_mode": {
    "name": "ipython",
    "version": 2
   },
   "file_extension": ".py",
   "mimetype": "text/x-python",
   "name": "python",
   "nbconvert_exporter": "python",
   "pygments_lexer": "ipython2",
   "version": "2.7.13"
  }
 },
 "nbformat": 4,
 "nbformat_minor": 1
}
